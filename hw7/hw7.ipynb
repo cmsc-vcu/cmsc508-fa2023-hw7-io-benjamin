{
  "cells": [
    {
      "cell_type": "raw",
      "metadata": {},
      "source": [
        "---\n",
        "title: Homework 7 - Creating a resume database\n",
        "author: Benjamin Estrada\n",
        "date: 11/11/2023\n",
        "format:\n",
        "    html:\n",
        "        theme: cosmo\n",
        "        toc: true\n",
        "        embed-resources: true\n",
        "        code-copy: true\n",
        "---"
      ],
      "id": "e2e25c15"
    },
    {
      "cell_type": "markdown",
      "metadata": {},
      "source": [
        "(The document appears to be a scaffold for a homework assignment titled \"Homework 7 - Creating a resume database\" authored by Benjamin Estrada on 11/11/2023. It outlines a series of tasks related to creating and interacting with a resume database. The document includes Python code snippets using libraries like Pandas, SQLAlchemy, and IPython to interact with a MySQL database.\n",
        "\n",
        "The scaffold includes sections such as:\n",
        "\n",
        "Overview and description: a brief introduction to the project and the database being created.\n",
        "Crows-foot diagram: Contains an entity-relationship diagram illustrating the relationships between the tables in the database.\n",
        "Examples of data in the database: Provides descriptions of tables like people, skills, and roles with code snippets to display sample data from these tables.\n",
        "Sample queries: Presents various SQL queries (like listing skill names, people's names and email addresses, etc.) along with expected sample results.\n",
        "Reflection: A section prompting the author to reflect on their experience with the assignment. )\n",
        "\n",
        "\n",
        "GITHUB URL:  <https://github.com/cmsc-vcu/cmsc508-fa2023-hw7-io-benjamin>\n"
      ],
      "id": "1a03df04"
    },
    {
      "cell_type": "code",
      "metadata": {},
      "source": [
        "#| eval: true\n",
        "#| echo: false\n",
        "import os\n",
        "import sys\n",
        "import pandas as pd\n",
        "from tabulate import tabulate\n",
        "from dotenv import load_dotenv\n",
        "from sqlalchemy import create_engine, text\n",
        "from sqlalchemy.exc import OperationalError, ProgrammingError\n",
        "from IPython.display import display, Markdown"
      ],
      "id": "83899aeb",
      "execution_count": null,
      "outputs": []
    },
    {
      "cell_type": "code",
      "metadata": {},
      "source": [
        "#| eval: true\n",
        "#| echo: false\n",
        "\n",
        "# modify config_map to reflect credentials needed by this program\n",
        "config_map = {\n",
        "    'user':'CMSC508_USER',\n",
        "    'password':'CMSC508_PASSWORD',\n",
        "    'host':'CMSC508_HOST',\n",
        "    'database':'HW7_DB_NAME'\n",
        "}\n",
        "# load and store credentials\n",
        "load_dotenv()\n",
        "config = {}\n",
        "for key in config_map.keys():\n",
        "    config[key] = os.getenv(config_map[key])\n",
        "flag = False\n",
        "for param in config.keys():\n",
        "    if config[param] is None:\n",
        "        flag = True\n",
        "        print(f\"Missing {config_map[param]} in .env file\")\n",
        "#if flag:\n",
        "#    sys.exit(1)"
      ],
      "id": "f7a82b02",
      "execution_count": null,
      "outputs": []
    },
    {
      "cell_type": "code",
      "metadata": {},
      "source": [
        "#| eval: true\n",
        "#| echo: false\n",
        "\n",
        "# build a sqlalchemy engine string\n",
        "engine_uri = f\"mysql+pymysql://{config['user']}:{config['password']}@{config['host']}/{config['database']}\"\n",
        "\n",
        "# create a database connection.  THIS IS THE ACTUAL CONNECTION!\n",
        "try:\n",
        "    cnx = create_engine(engine_uri)\n",
        "except ArgumentError as e:\n",
        "    print(f\"create_engine: Argument Error: {e}\")\n",
        "    #sys.exit(1)\n",
        "except NoSuchModuleError as e:\n",
        "    print(f\"create_engine: No Such Module Error: {e}\")\n",
        "    #sys.exit(1)\n",
        "except Exception as e:\n",
        "    print(f\"create_engine: An error occurred: {e}\")\n",
        "    #sys.exit(1)"
      ],
      "id": "07f7a583",
      "execution_count": null,
      "outputs": []
    },
    {
      "cell_type": "code",
      "metadata": {},
      "source": [
        "#| echo: false\n",
        "#| eval: true\n",
        "\n",
        "# Do a quick test of the connection and trap the errors better!\n",
        "try:\n",
        "    databases = pd.read_sql(\"show databases\",cnx)\n",
        "except ImportError as e:\n",
        "    print(f\"Error: {e}\")\n",
        "except OperationalError as e:\n",
        "    print(f\"Database/SQL Error:\\n{str(e)}\\n\")\n",
        "except ProgrammingError as e:\n",
        "    print(f\"Programming Error:\\n{str(e)}\\n\")\n",
        "except Exception as e:\n",
        "    print(f\"An error occurred:\\n{str(e)}\\n\")"
      ],
      "id": "ef3330e8",
      "execution_count": null,
      "outputs": []
    },
    {
      "cell_type": "markdown",
      "metadata": {},
      "source": [
        "## Overview and description\n",
        "\n",
        "The project involves creating a relational database for managing resumes, skills, roles, and people-related information. The database is designed to organize and store data about individuals (people), their skills, roles assigned, and associated metadata. It encompasses tables for people, skills, roles, peopleskills, and peopleroles. The people table holds personal details, skills table contains various skills, roles table represents different roles, while peopleskills and peopleroles serve as junction tables linking people with their respective skills and roles. This database serves as a comprehensive repository to manage and analyze resume-related data for individuals in various roles and skillsets.\n",
        "\n",
        "## Crows-foot diagram\n",
        "\n",
        "The provided Mermaid diagram illustrates the relationships between various tables in the database schema. It shows how different entities are interconnected:\n",
        "\n",
        "SKILLS: Represents skills with attributes like ID, name, description, and tag.\n",
        "PEOPLE: Contains information about individuals with attributes such as people_id, first_name, last_name, email, linkedin_url, headshot_url, discord_handle, and brief_bio.\n",
        "PEOPLE_SKILLS: Serves as an associative table linking people with their acquired skills. It includes fields for ID, skills_id, people_id, and date_acquired.\n",
        "ROLES: Defines various roles with attributes ID, name, and sort_priority.\n",
        "PEOPLE_ROLES: Represents the association between people and roles, containing fields like ID, people_id, role_id, and date_assigned.\n",
        "\n",
        "\n",
        "```{mermaid}\n",
        "erDiagram\n",
        "    SKILLS ||--o{ PEOPLE_SKILLS : \"0..*\" \n",
        "    PEOPLE ||--o{ PEOPLE_SKILLS : \"0..*\"\n",
        "    PEOPLE ||--o{ PEOPLE_ROLES : \"0..*\"\n",
        "    ROLES ||--o{ PEOPLE_ROLES : \"0..*\"\n",
        "    \n",
        "    SKILLS {\n",
        "        int id\n",
        "        varchar(255) name\n",
        "        varchar(255) description\n",
        "        varchar(255) tag\n",
        "    }\n",
        "    PEOPLE {\n",
        "        int people_id\n",
        "        varchar(255) first_name\n",
        "        varchar(255) last_name\n",
        "        varchar(255) email\n",
        "        varchar(4096) linkedin_url\n",
        "        varchar(4096) headshot_url\n",
        "        varchar(255) discord_handle\n",
        "        varchar(4096) brief_bio\n",
        "    }\n",
        "    PEOPLE_SKILLS {\n",
        "        int id\n",
        "        int skills_id\n",
        "        int people_id\n",
        "        date date_acquired\n",
        "    }\n",
        "    ROLES {\n",
        "        int id\n",
        "        varchar(255) name\n",
        "        int sort_priority\n",
        "    }\n",
        "    PEOPLE_ROLES {\n",
        "        int id\n",
        "        int people_id\n",
        "        int role_id\n",
        "        date date_assigned\n",
        "    }\n",
        "\n",
        "```\n",
        "\n",
        "\n",
        "## Examples of data in the database\n",
        "\n",
        "People Table\n",
        "The people table stores information about individuals. It includes the following fields:\n",
        "\n",
        "people_id: Unique identifier for each person.\n",
        "first_name: First name of the individual.\n",
        "last_name: Last name of the individual.\n",
        "email: Email address of the person.\n",
        "linkedin_url: URL to the person's LinkedIn profile.\n",
        "headshot_url: URL to the person's headshot image.\n",
        "discord_handle: Discord handle of the individual.\n",
        "brief_bio: A brief biography or description.\n",
        "\n",
        "Skills Table\n",
        "The skills table contains information about various skills. It comprises the following fields:\n",
        "\n",
        "id: Unique identifier for each skill.\n",
        "name: Name of the skill.\n",
        "description: Description explaining the skill.\n",
        "tag: A tag categorizing the skill.\n",
        "\n",
        "Roles Table\n",
        "The roles table stores details about different roles. It consists of the following fields:\n",
        "\n",
        "id: Unique identifier for each role.\n",
        "name: Name of the role.\n",
        "sort_priority: An integer representing the priority/order of the role.\n",
        "\n",
        "\n",
        "### People table\n",
        "\n",
        "The *people* table contains elements that describe ... \n",
        "\n",
        "Below is a list of data in the *people* table.\n"
      ],
      "id": "5fcaa91e"
    },
    {
      "cell_type": "code",
      "metadata": {},
      "source": [
        "#| echo: false\n",
        "#| eval: true\n",
        "sql = f\"\"\"\n",
        "select * from people;\n",
        "\"\"\"\n",
        "## Add code to list roles table here\n",
        "try:\n",
        "    df = pd.read_sql(sql,cnx)\n",
        "    df\n",
        "except Exception as e:\n",
        "    message = str(e)\n",
        "    print(f\"An error occurred:\\n\\n{message}\\n\\nIgnoring and moving on.\")\n",
        "    df = pd.DataFrame()\n",
        "df"
      ],
      "id": "fc3df603",
      "execution_count": null,
      "outputs": []
    },
    {
      "cell_type": "markdown",
      "metadata": {},
      "source": [
        "### Skills table\n",
        "\n",
        "The *skills* table contains elements that describe ... \n",
        "\n",
        "Below is a list of data in the *skills* table.\n"
      ],
      "id": "4f0f855c"
    },
    {
      "cell_type": "code",
      "metadata": {},
      "source": [
        "SELECT * FROM skills;"
      ],
      "id": "179e9399",
      "execution_count": null,
      "outputs": []
    },
    {
      "cell_type": "markdown",
      "metadata": {},
      "source": [
        "### Roles table\n",
        "\n",
        "The *roles* table contains elements that describe ... \n",
        "\n",
        "Below is a list of data in the *roles* table.\n"
      ],
      "id": "26ff5c39"
    },
    {
      "cell_type": "code",
      "metadata": {},
      "source": [
        "SELECT * FROM roles;"
      ],
      "id": "3d27bc86",
      "execution_count": null,
      "outputs": []
    },
    {
      "cell_type": "markdown",
      "metadata": {},
      "source": [
        "## Sample queries\n",
        "\n",
        "Let's explore the database!\n",
        "\n",
        "# List skill names, tags, and descriptions ordered by name\n",
        "\n",
        "(here a sample query)\n"
      ],
      "id": "c69edf29"
    },
    {
      "cell_type": "code",
      "metadata": {},
      "source": [
        "sql = f\"\"\"\n",
        "select * from people\n",
        "\"\"\""
      ],
      "id": "cd575cb4",
      "execution_count": null,
      "outputs": []
    },
    {
      "cell_type": "markdown",
      "metadata": {},
      "source": [
        "(and here is a sample result from the query)\n"
      ],
      "id": "5d6b858e"
    },
    {
      "cell_type": "code",
      "metadata": {},
      "source": [
        "#| echo: false\n",
        "#| eval: true\n",
        "try:\n",
        "    df = pd.read_sql(sql,cnx)\n",
        "    df\n",
        "except Exception as e:\n",
        "    message = str(e)\n",
        "    print(f\"An error occurred:\\n\\n{message}\\n\\nIgnoring and moving on.\")\n",
        "    df = pd.DataFrame()\n",
        "df"
      ],
      "id": "ae5b2590",
      "execution_count": null,
      "outputs": []
    },
    {
      "cell_type": "markdown",
      "metadata": {},
      "source": [
        "### List people names and email addresses ordered by last_name\n"
      ],
      "id": "036e7bd3"
    },
    {
      "cell_type": "code",
      "metadata": {},
      "source": [
        "SELECT last_name, email\n",
        "FROM people\n",
        "ORDER BY last_name;"
      ],
      "id": "e2d8a544",
      "execution_count": null,
      "outputs": []
    },
    {
      "cell_type": "markdown",
      "metadata": {},
      "source": [
        "### List skill names of Person 1\n"
      ],
      "id": "656fb955"
    },
    {
      "cell_type": "code",
      "metadata": {},
      "source": [
        "SELECT s.name AS skill_name\n",
        "FROM skills s\n",
        "JOIN peopleskills ps ON s.id = ps.skills_id\n",
        "WHERE ps.people_id = 1;"
      ],
      "id": "1c713def",
      "execution_count": null,
      "outputs": []
    },
    {
      "cell_type": "markdown",
      "metadata": {},
      "source": [
        "### List people names with Skill 6\n"
      ],
      "id": "d902d02a"
    },
    {
      "cell_type": "code",
      "metadata": {},
      "source": [
        "SELECT p.last_name\n",
        "FROM people p\n",
        "JOIN peopleskills ps ON p.people_id = ps.people_id\n",
        "WHERE ps.skills_id = 6;"
      ],
      "id": "214ce5f4",
      "execution_count": null,
      "outputs": []
    },
    {
      "cell_type": "markdown",
      "metadata": {},
      "source": [
        "### List people with a DEVELOPER role\n"
      ],
      "id": "74ab9ea1"
    },
    {
      "cell_type": "code",
      "metadata": {},
      "source": [
        "SELECT p.last_name\n",
        "FROM people p\n",
        "JOIN peopleroles pr ON p.people_id = pr.people_id\n",
        "JOIN roles r ON pr.role_id = r.id\n",
        "WHERE r.name = 'Developer';"
      ],
      "id": "f89c1ecd",
      "execution_count": null,
      "outputs": []
    },
    {
      "cell_type": "markdown",
      "metadata": {},
      "source": [
        "### List names and email addresses of people without skills\n"
      ],
      "id": "092c1c16"
    },
    {
      "cell_type": "code",
      "metadata": {},
      "source": [
        "SELECT p.last_name, p.email\n",
        "FROM people p\n",
        "LEFT JOIN peopleskills ps ON p.people_id = ps.people_id\n",
        "WHERE ps.skills_id IS NULL;"
      ],
      "id": "b6f5c3c1",
      "execution_count": null,
      "outputs": []
    },
    {
      "cell_type": "markdown",
      "metadata": {},
      "source": [
        "### List names and tags of unused skills\n"
      ],
      "id": "9f565e1c"
    },
    {
      "cell_type": "code",
      "metadata": {},
      "source": [
        "SELECT s.name, s.tag\n",
        "FROM skills s\n",
        "LEFT JOIN peopleskills ps ON s.id = ps.skills_id\n",
        "WHERE ps.skills_id IS NULL;"
      ],
      "id": "1ebc93f6",
      "execution_count": null,
      "outputs": []
    },
    {
      "cell_type": "markdown",
      "metadata": {},
      "source": [
        "### List people names and skill names with the BOSS role\n"
      ],
      "id": "c698fa45"
    },
    {
      "cell_type": "code",
      "metadata": {},
      "source": [
        "SELECT p.last_name, s.name AS skill_name\n",
        "FROM people p\n",
        "JOIN peopleroles pr ON p.people_id = pr.people_id\n",
        "JOIN roles r ON pr.role_id = r.id\n",
        "JOIN peopleskills ps ON p.people_id = ps.people_id\n",
        "JOIN skills s ON ps.skills_id = s.id\n",
        "WHERE r.name = 'Boss';"
      ],
      "id": "4b2bdd4f",
      "execution_count": null,
      "outputs": []
    },
    {
      "cell_type": "markdown",
      "metadata": {},
      "source": [
        "### List ids and names of unused roles\n"
      ],
      "id": "1d924033"
    },
    {
      "cell_type": "code",
      "metadata": {},
      "source": [
        "SELECT r.id, r.name\n",
        "FROM roles r\n",
        "LEFT JOIN peopleroles pr ON r.id = pr.role_id\n",
        "WHERE pr.role_id IS NULL;"
      ],
      "id": "7d8b911f",
      "execution_count": null,
      "outputs": []
    },
    {
      "cell_type": "markdown",
      "metadata": {},
      "source": [
        "## Reflection\n",
        "\n",
        "Working on this assignment allowed for a deeper understanding of database design, SQL queries, and their practical implementation. The task of structuring tables, defining relationships, and executing SQL commands helped bridge the gap between theoretical knowledge and practical application. It highlighted the importance of accurate data modeling, query optimization, and the significance of precise syntax. This experience fostered a stronger grasp of database management concepts and emphasized the need for meticulousness in database design and querying processes.\n"
      ],
      "id": "0ae9878b"
    }
  ],
  "metadata": {
    "kernelspec": {
      "name": "python3",
      "language": "python",
      "display_name": "Python 3 (ipykernel)"
    }
  },
  "nbformat": 4,
  "nbformat_minor": 5
}